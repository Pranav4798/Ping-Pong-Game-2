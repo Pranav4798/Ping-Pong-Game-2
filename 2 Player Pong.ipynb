{
 "cells": [
  {
   "cell_type": "code",
   "execution_count": 1,
   "metadata": {},
   "outputs": [
    {
     "name": "stdout",
     "output_type": "stream",
     "text": [
      "pygame 2.6.1 (SDL 2.28.4, Python 3.7.3)\n",
      "Hello from the pygame community. https://www.pygame.org/contribute.html\n"
     ]
    }
   ],
   "source": [
    "import pygame\n",
    "import random"
   ]
  },
  {
   "cell_type": "code",
   "execution_count": 2,
   "metadata": {},
   "outputs": [],
   "source": [
    "pygame.init()\n",
    "pygame.mixer.init()"
   ]
  },
  {
   "cell_type": "code",
   "execution_count": 3,
   "metadata": {},
   "outputs": [],
   "source": [
    "def play_music():\n",
    "    \n",
    "    pygame.mixer.music.load(\"chill-beat.mp3\")\n",
    "    pygame.mixer.music.play(loops=0, start=0.0)"
   ]
  },
  {
   "cell_type": "code",
   "execution_count": 4,
   "metadata": {},
   "outputs": [],
   "source": [
    "def reset_ball():\n",
    "    global ball_speed_x, ball_speed_y\n",
    "    \n",
    "    ball.x = screen_width/2-10\n",
    "    ball.y = random.randint(10,100)\n",
    "    ball_speed_x *= random.choice([-1,1])\n",
    "    ball_speed_y *= random.choice([-1,1])"
   ]
  },
  {
   "cell_type": "code",
   "execution_count": 5,
   "metadata": {},
   "outputs": [],
   "source": [
    "def points_won(winner):\n",
    "    \n",
    "    global player2_points, player_points\n",
    "    \n",
    "    if winner == 'player2':\n",
    "        player2_points += 1\n",
    "    if winner == 'player':\n",
    "        player_points += 1\n",
    "        \n",
    "    reset_ball()"
   ]
  },
  {
   "cell_type": "code",
   "execution_count": 6,
   "metadata": {},
   "outputs": [],
   "source": [
    "def animate_ball():\n",
    "    \n",
    "    global ball_speed_x, ball_speed_y\n",
    "    \n",
    "    ball.x += ball_speed_x\n",
    "    ball.y += ball_speed_y\n",
    "    \n",
    "    if ball.bottom >= screen_height or ball.top <= 0:\n",
    "        ball_speed_y *= -1\n",
    "\n",
    "    if ball.right >= screen_width:\n",
    "        points_won('player2')\n",
    "    \n",
    "    if ball.left <= 0:\n",
    "        points_won('player')\n",
    "        \n",
    "    if ball.colliderect(player) or ball.colliderect(player2):\n",
    "        ball_speed_x *= -1\n",
    "        "
   ]
  },
  {
   "cell_type": "code",
   "execution_count": 7,
   "metadata": {},
   "outputs": [],
   "source": [
    "def animate_player():\n",
    "    \n",
    "    player.y += player_speed\n",
    "    \n",
    "    if player.top <= 0:\n",
    "        player.top = 0\n",
    "    if player.bottom >= screen_height:\n",
    "        player.bottom = screen_height"
   ]
  },
  {
   "cell_type": "code",
   "execution_count": 8,
   "metadata": {},
   "outputs": [],
   "source": [
    "def animate_player2():\n",
    "    \n",
    "    player2.y += player2_speed\n",
    "    \n",
    "    if player2.top <= 0:\n",
    "        player2.top = 0\n",
    "    if player2.bottom >= screen_height:\n",
    "        player2.bottom = screen_height"
   ]
  },
  {
   "cell_type": "code",
   "execution_count": 9,
   "metadata": {},
   "outputs": [],
   "source": [
    "screen_width = 1200\n",
    "screen_height = 800"
   ]
  },
  {
   "cell_type": "code",
   "execution_count": 10,
   "metadata": {},
   "outputs": [],
   "source": [
    "screen = pygame.display.set_mode((screen_width, screen_height))\n",
    "pygame.display.set_caption('My Pong Game!')"
   ]
  },
  {
   "cell_type": "code",
   "execution_count": 11,
   "metadata": {},
   "outputs": [],
   "source": [
    "clock = pygame.time.Clock()"
   ]
  },
  {
   "cell_type": "code",
   "execution_count": 12,
   "metadata": {},
   "outputs": [],
   "source": [
    "ball = pygame.Rect(0,0,30,30)\n",
    "ball.center = (screen_width/2, screen_height/2)\n",
    "\n",
    "player2 = pygame.Rect(0,0,20,100)\n",
    "player2.centery = screen_height/2\n",
    "\n",
    "player = pygame.Rect(0,0,20,100)\n",
    "player.midright = (screen_width, screen_height/2)\n",
    "\n",
    "ball_speed_x = 6\n",
    "ball_speed_y = 6\n",
    "player_speed = 0\n",
    "player2_speed = 0\n",
    "player2_points, player_points = 0,0\n",
    "\n",
    "score_font = pygame.font.Font(None, 100)"
   ]
  },
  {
   "cell_type": "code",
   "execution_count": 13,
   "metadata": {},
   "outputs": [
    {
     "ename": "NameError",
     "evalue": "name 'sys' is not defined",
     "output_type": "error",
     "traceback": [
      "\u001b[1;31m---------------------------------------------------------------------------\u001b[0m",
      "\u001b[1;31mNameError\u001b[0m                                 Traceback (most recent call last)",
      "\u001b[1;32m<ipython-input-13-15062b0e4fea>\u001b[0m in \u001b[0;36m<module>\u001b[1;34m\u001b[0m\n\u001b[0;32m      5\u001b[0m         \u001b[1;32mif\u001b[0m \u001b[0mevent\u001b[0m\u001b[1;33m.\u001b[0m\u001b[0mtype\u001b[0m \u001b[1;33m==\u001b[0m \u001b[0mpygame\u001b[0m\u001b[1;33m.\u001b[0m\u001b[0mQUIT\u001b[0m\u001b[1;33m:\u001b[0m\u001b[1;33m\u001b[0m\u001b[1;33m\u001b[0m\u001b[0m\n\u001b[0;32m      6\u001b[0m             \u001b[0mpygame\u001b[0m\u001b[1;33m.\u001b[0m\u001b[0mquit\u001b[0m\u001b[1;33m(\u001b[0m\u001b[1;33m)\u001b[0m\u001b[1;33m\u001b[0m\u001b[1;33m\u001b[0m\u001b[0m\n\u001b[1;32m----> 7\u001b[1;33m             \u001b[0msys\u001b[0m\u001b[1;33m.\u001b[0m\u001b[0mexit\u001b[0m\u001b[1;33m(\u001b[0m\u001b[1;33m)\u001b[0m\u001b[1;33m\u001b[0m\u001b[1;33m\u001b[0m\u001b[0m\n\u001b[0m\u001b[0;32m      8\u001b[0m         \u001b[1;32mif\u001b[0m \u001b[0mevent\u001b[0m\u001b[1;33m.\u001b[0m\u001b[0mtype\u001b[0m \u001b[1;33m==\u001b[0m \u001b[0mpygame\u001b[0m\u001b[1;33m.\u001b[0m\u001b[0mKEYDOWN\u001b[0m\u001b[1;33m:\u001b[0m\u001b[1;33m\u001b[0m\u001b[1;33m\u001b[0m\u001b[0m\n\u001b[0;32m      9\u001b[0m             \u001b[1;32mif\u001b[0m \u001b[0mevent\u001b[0m\u001b[1;33m.\u001b[0m\u001b[0mkey\u001b[0m \u001b[1;33m==\u001b[0m \u001b[0mpygame\u001b[0m\u001b[1;33m.\u001b[0m\u001b[0mK_UP\u001b[0m\u001b[1;33m:\u001b[0m\u001b[1;33m\u001b[0m\u001b[1;33m\u001b[0m\u001b[0m\n",
      "\u001b[1;31mNameError\u001b[0m: name 'sys' is not defined"
     ]
    }
   ],
   "source": [
    "play_music()\n",
    "\n",
    "while True:\n",
    "    for event in pygame.event.get():\n",
    "        if event.type == pygame.QUIT:\n",
    "            pygame.quit()\n",
    "            sys.exit()\n",
    "        if event.type == pygame.KEYDOWN:\n",
    "            if event.key == pygame.K_UP:\n",
    "                player_speed = -6\n",
    "            if event.key == pygame.K_DOWN:\n",
    "                player_speed = 6\n",
    "        if event.type == pygame.KEYUP:\n",
    "            if event.key == pygame.K_UP:\n",
    "                player_speed = 0\n",
    "            if event.key == pygame.K_DOWN:\n",
    "                player_speed = 0\n",
    "        if event.type == pygame.KEYDOWN:\n",
    "            if event.key == pygame.K_w:\n",
    "                player2_speed = -6\n",
    "            if event.key == pygame.K_s:\n",
    "                player2_speed = 6\n",
    "        if event.type == pygame.KEYUP:\n",
    "            if event.key == pygame.K_w:\n",
    "                player2_speed = 0\n",
    "            if event.key == pygame.K_s:\n",
    "                player2_speed = 0\n",
    "        \n",
    "    animate_ball()\n",
    "    animate_player()\n",
    "    animate_player2()\n",
    "    \n",
    "    \n",
    "\n",
    "    \n",
    "    screen.fill('black')\n",
    "    player2_score_surface = score_font.render(str(player2_points), True, 'white')\n",
    "    player_score_surface = score_font.render(str(player_points), True, 'white')\n",
    "    screen.blit(player2_score_surface, (screen_width/4,20))\n",
    "    screen.blit(player_score_surface, (3*screen_width/4,20))\n",
    "    pygame.draw.aaline(screen, 'white', (screen_width/2,0), (screen_width/2, screen_height))\n",
    "    pygame.draw.ellipse(screen, 'white', ball)\n",
    "    pygame.draw.rect(screen, 'white', player2)\n",
    "    pygame.draw.rect(screen,'white',player)\n",
    "    \n",
    "    \n",
    "    \n",
    "    pygame.display.update()\n",
    "    clock.tick(60)"
   ]
  },
  {
   "cell_type": "code",
   "execution_count": null,
   "metadata": {},
   "outputs": [],
   "source": []
  },
  {
   "cell_type": "code",
   "execution_count": null,
   "metadata": {},
   "outputs": [],
   "source": []
  },
  {
   "cell_type": "code",
   "execution_count": null,
   "metadata": {},
   "outputs": [],
   "source": []
  }
 ],
 "metadata": {
  "kernelspec": {
   "display_name": "Python 3",
   "language": "python",
   "name": "python3"
  },
  "language_info": {
   "codemirror_mode": {
    "name": "ipython",
    "version": 3
   },
   "file_extension": ".py",
   "mimetype": "text/x-python",
   "name": "python",
   "nbconvert_exporter": "python",
   "pygments_lexer": "ipython3",
   "version": "3.7.3"
  }
 },
 "nbformat": 4,
 "nbformat_minor": 2
}
